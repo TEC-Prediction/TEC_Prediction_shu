{
 "cells": [
  {
   "cell_type": "code",
   "execution_count": 1,
   "metadata": {},
   "outputs": [
    {
     "name": "stderr",
     "output_type": "stream",
     "text": [
      "/usr/local/lib/python3.6/dist-packages/tqdm/auto.py:22: TqdmWarning: IProgress not found. Please update jupyter and ipywidgets. See https://ipywidgets.readthedocs.io/en/stable/user_install.html\n",
      "  from .autonotebook import tqdm as notebook_tqdm\n"
     ]
    }
   ],
   "source": [
    "import pandas as pd\n",
    "from pathlib import Path\n",
    "from tqdm.auto import tqdm\n",
    "def read_csv_data(years, DATAPATH=Path('./raw_data/SWGIM_year/')):\n",
    "    reserved_point = [(67.5, -65), (25, 120), (0, -90), (-20, -160), (-32.5, 20), (-77.5, 165)]\n",
    "    \n",
    "    droplist = [0] + list(range(9, 10235))\n",
    "    for lat, lng in reserved_point:\n",
    "        droplist.remove(10 + int((87.5-lat)/2.5)*72 + int((180+lng)/5+1))\n",
    "        \n",
    "    renamelist = ['Year', 'Day', 'Hour', 'Kp index',\n",
    "            'R', 'Dst-index, nT', 'ap_index, nT', 'f10.7_index', (67.5, -65),\\\n",
    "                            (25, 120), (0, -90), (-20, -160), (-32.5, 20), (-77.5, 165)]\n",
    "\n",
    "    df_list = []\n",
    "    print('Reading csv data...')\n",
    "    for year in tqdm(years):\n",
    "        year_df = pd.read_csv(DATAPATH / Path(f'{year}.csv'), header=list(range(6)))\n",
    "\n",
    "        # drop columns\n",
    "        year_df.drop(year_df.columns[droplist], inplace=True, axis=1, errors='ignore')\n",
    "        \n",
    "        # rename dataframe\n",
    "        year_df.columns = renamelist\n",
    "        \n",
    "        df_list.append(year_df)\n",
    "        \n",
    "    all_df = pd.concat(df_list, axis=0)\n",
    "        \n",
    "    return all_df"
   ]
  },
  {
   "cell_type": "code",
   "execution_count": 2,
   "metadata": {},
   "outputs": [],
   "source": [
    "import pandas as pd\n",
    "train_df = pd.read_csv('./single_point_test.csv')\n",
    "train_df.to_csv('./single_point_test.csv')\n",
    "train_df = pd.read_csv('./single_point_train.csv')\n",
    "train_df.to_csv('./single_point_train.csv')"
   ]
  }
 ],
 "metadata": {
  "kernelspec": {
   "display_name": "Python 3.6.9 64-bit",
   "language": "python",
   "name": "python3"
  },
  "language_info": {
   "codemirror_mode": {
    "name": "ipython",
    "version": 3
   },
   "file_extension": ".py",
   "mimetype": "text/x-python",
   "name": "python",
   "nbconvert_exporter": "python",
   "pygments_lexer": "ipython3",
   "version": "3.6.9"
  },
  "orig_nbformat": 4,
  "vscode": {
   "interpreter": {
    "hash": "31f2aee4e71d21fbe5cf8b01ff0e069b9275f58929596ceb00d14d90e3e16cd6"
   }
  }
 },
 "nbformat": 4,
 "nbformat_minor": 2
}
