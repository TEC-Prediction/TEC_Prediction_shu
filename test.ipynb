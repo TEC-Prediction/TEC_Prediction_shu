{
 "cells": [
  {
   "cell_type": "code",
   "execution_count": 3,
   "metadata": {},
   "outputs": [
    {
     "data": {
      "text/plain": [
       "MultiIndex([(    'UTC',                     'year',           '-', ...),\n",
       "            (    'UTC',                      'DOY',           '-', ...),\n",
       "            (    'UTC',                     'hour',           '-', ...),\n",
       "            ('OMNIWeb',                 'Kp index',           '-', ...),\n",
       "            ('OMNIWeb',                        'R', 'Sunspot No.', ...),\n",
       "            ('OMNIWeb',            'Dst-index, nT',          'nT', ...),\n",
       "            ('OMNIWeb',             'ap_index, nT',          'nT', ...),\n",
       "            ('OMNIWeb',              'f10.7_index',       'index', ...),\n",
       "            (  'label',  'Geomagnetic Storms Size',       'Level', ...),\n",
       "            (  'label', 'Geomagnetic Storms State',    'AR state', ...)],\n",
       "           names=['Source', 'Feature', 'unit', 'format', 'location latitude', 'location longitude'])"
      ]
     },
     "execution_count": 3,
     "metadata": {},
     "output_type": "execute_result"
    }
   ],
   "source": [
    "import torch\n",
    "import torch.nn as nn\n",
    "import pandas as pd\n",
    "import numpy as np\n",
    "a = pd.read_csv('./data/raw_data/SWGIM_day/2021/2021001.csv', index_col=0, header=list(range(6)))\n",
    "a.columns[:10]\n",
    "# pred = np.load(open('./record/41/predict.npy', 'rb'))\n",
    "# display(pred.shape)\n",
    "# pred"
   ]
  }
 ],
 "metadata": {
  "kernelspec": {
   "display_name": "Python 3.6.9 64-bit",
   "language": "python",
   "name": "python3"
  },
  "language_info": {
   "codemirror_mode": {
    "name": "ipython",
    "version": 3
   },
   "file_extension": ".py",
   "mimetype": "text/x-python",
   "name": "python",
   "nbconvert_exporter": "python",
   "pygments_lexer": "ipython3",
   "version": "3.6.9"
  },
  "orig_nbformat": 4,
  "vscode": {
   "interpreter": {
    "hash": "31f2aee4e71d21fbe5cf8b01ff0e069b9275f58929596ceb00d14d90e3e16cd6"
   }
  }
 },
 "nbformat": 4,
 "nbformat_minor": 2
}
